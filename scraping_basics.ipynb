{
 "cells": [
  {
   "cell_type": "markdown",
   "metadata": {
    "colab_type": "text",
    "id": "kZy-RvQX6l-3"
   },
   "source": [
    "<br>\n",
    "<h1><TT>It's Officially Legal so Let's Scrape the Web</TT></h1>\n",
    "<br>\n",
    "\n",
    "Kimberly Fessel  \n",
    "- Twitter - @kimberlyfessel \n",
    "- LinkedIn - kimberlyfessel\n",
    "\n",
    "<br>\n",
    "<h2> <TT> Scraping Basics </TT> </h2>\n",
    "\n",
    "<br>\n",
    "\n",
    "---\n",
    "\n"
   ]
  },
  {
   "cell_type": "markdown",
   "metadata": {
    "colab_type": "text",
    "id": "sGhoHtzhIj5k"
   },
   "source": [
    "# Introduction to Google Colab and `BeautifulSoup`"
   ]
  },
  {
   "cell_type": "markdown",
   "metadata": {
    "colab_type": "text",
    "id": "hW6O_39pSlfP"
   },
   "source": [
    "\n",
    "### Google Colab\n",
    "\n",
    "- Executes Python code on the fly\n",
    "- Interactivity allows for instant feedback\n",
    "- Memory persists across cells\n",
    "- `shift+enter` \n",
    "- Use [markdown](https://blog.ghost.org/markdown/) (TEXT) mode for adding text like this\n",
    "\n",
    "### BeautifulSoup\n",
    "\n",
    "- open-source Python library\n",
    "- extract data from HTML files\n",
    "- understands HTML structure by working with a [parser](https://www.crummy.com/software/BeautifulSoup/bs4/doc/#installing-a-parser) (`lxml`, `html5lib`, etc.) \n",
    "- [BeautifulSoup documentation](https://www.crummy.com/software/BeautifulSoup/bs4/doc/) for reference\n",
    "<br> <br>\n",
    "\n",
    "`BeautifulSoup` does not actually gather information from the web.  We will use the `requests` library for that."
   ]
  },
  {
   "cell_type": "markdown",
   "metadata": {
    "colab_type": "text",
    "id": "RDuD_qj9IxLP"
   },
   "source": [
    "# Learn to Scrape with Simple Inline HTML\n",
    "\n",
    "Let's start with this simple HTML page given below as a string: "
   ]
  },
  {
   "cell_type": "code",
   "execution_count": 1,
   "metadata": {
    "colab": {},
    "colab_type": "code",
    "id": "H00yNF3_uuKB"
   },
   "outputs": [],
   "source": [
    "simple_html = \"\"\"\n",
    "<html>\n",
    "\n",
    "<head>\n",
    "  <style>\n",
    "    li {font-size: 18px;}\n",
    "  </style>\n",
    "</head>\n",
    "\n",
    "<body>\n",
    "  <div style=\"border-style: dotted; padding: 10px\">\n",
    "    <h1>Today's Learning Objectives</h1>\n",
    "    <ul>\n",
    "      <li>Decipher basic HTML</li>\n",
    "      <li>Retrieve information from Internet</li>\n",
    "      <li>Parse web data</li>\n",
    "      <li>Gather and prepare data systematically</li>\n",
    "    </ul>\n",
    "    <br>\n",
    "  </div>\n",
    "</body>\n",
    "\n",
    "</html>\n",
    "\"\"\""
   ]
  },
  {
   "cell_type": "markdown",
   "metadata": {
    "colab_type": "text",
    "id": "UKwJwQiHjmhZ"
   },
   "source": [
    "**EXERCISE: Quick HTML Review**\n",
    "> What tags do we see on this page?  \n",
    "> What attributes?  \n",
    "> What's the inner HTML text of the header?"
   ]
  },
  {
   "cell_type": "markdown",
   "metadata": {
    "colab_type": "text",
    "id": "3AqWBqN70t-e"
   },
   "source": [
    "Now we will tell Python to render this string as HTML."
   ]
  },
  {
   "cell_type": "code",
   "execution_count": 2,
   "metadata": {
    "colab": {},
    "colab_type": "code",
    "id": "WR7vpgdGvQRy"
   },
   "outputs": [
    {
     "data": {
      "text/html": [
       "\n",
       "<html>\n",
       "\n",
       "<head>\n",
       "  <style>\n",
       "    li {font-size: 18px;}\n",
       "  </style>\n",
       "</head>\n",
       "\n",
       "<body>\n",
       "  <div style=\"border-style: dotted; padding: 10px\">\n",
       "    <h1>Today's Learning Objectives</h1>\n",
       "    <ul>\n",
       "      <li>Decipher basic HTML</li>\n",
       "      <li>Retrieve information from Internet</li>\n",
       "      <li>Parse web data</li>\n",
       "      <li>Gather and prepare data systematically</li>\n",
       "    </ul>\n",
       "    <br>\n",
       "  </div>\n",
       "</body>\n",
       "\n",
       "</html>\n"
      ],
      "text/plain": [
       "<IPython.core.display.HTML object>"
      ]
     },
     "metadata": {},
     "output_type": "display_data"
    }
   ],
   "source": [
    "from IPython.core.display import display, HTML\n",
    "display(HTML(simple_html)) "
   ]
  },
  {
   "cell_type": "markdown",
   "metadata": {
    "colab_type": "text",
    "id": "2JbPxSix3MP6"
   },
   "source": [
    "This simple \"page\" contains a list of learning objectives for today's workshop. Now we will see how `BeautifulSoup` can extract information from this HTML.\n",
    "\n",
    "First we need to import `BeautifulSoup` and parse the HTML string."
   ]
  },
  {
   "cell_type": "code",
   "execution_count": 3,
   "metadata": {
    "colab": {},
    "colab_type": "code",
    "id": "9NTv9j2G5Omt"
   },
   "outputs": [],
   "source": [
    "from bs4 import BeautifulSoup as bs"
   ]
  },
  {
   "cell_type": "code",
   "execution_count": 4,
   "metadata": {
    "colab": {},
    "colab_type": "code",
    "id": "ZxqSZc7UPxbx"
   },
   "outputs": [],
   "source": [
    "soup = bs(simple_html)"
   ]
  },
  {
   "cell_type": "code",
   "execution_count": 82,
   "metadata": {
    "colab": {},
    "colab_type": "code",
    "id": "08WUfmF0QIKz"
   },
   "outputs": [
    {
     "data": {
      "text/plain": [
       "\n",
       "<html>\n",
       "<head>\n",
       "<style>\n",
       "    li {font-size: 18px;}\n",
       "  </style>\n",
       "</head>\n",
       "<body>\n",
       "<div style=\"border-style: dotted; padding: 10px\">\n",
       "<h1>Today's Learning Objectives</h1>\n",
       "<ul>\n",
       "<li>Decipher basic HTML</li>\n",
       "<li>Retrieve information from Internet</li>\n",
       "<li>Parse web data</li>\n",
       "<li>Gather and prepare data systematically</li>\n",
       "</ul>\n",
       "<br/>\n",
       "</div>\n",
       "</body>\n",
       "</html>"
      ]
     },
     "execution_count": 82,
     "metadata": {},
     "output_type": "execute_result"
    }
   ],
   "source": [
    "soup"
   ]
  },
  {
   "cell_type": "markdown",
   "metadata": {
    "colab_type": "text",
    "id": "bsv1EITAQOqp"
   },
   "source": [
    "When we print out `soup`, it looks like `BeautifulSoup` hasn't done anything!  But no worries -- it has indeed parsed our code and `BeautifulSoup` now knows how to navigate through the HTML DOM."
   ]
  },
  {
   "cell_type": "code",
   "execution_count": 7,
   "metadata": {
    "colab": {},
    "colab_type": "code",
    "id": "q7JIsSw3Qgjn"
   },
   "outputs": [
    {
     "data": {
      "text/plain": [
       "bs4.BeautifulSoup"
      ]
     },
     "execution_count": 7,
     "metadata": {},
     "output_type": "execute_result"
    }
   ],
   "source": [
    "type(soup)"
   ]
  },
  {
   "cell_type": "markdown",
   "metadata": {
    "colab_type": "text",
    "id": "LkjBrNoJLNVc"
   },
   "source": [
    "### Find by tag"
   ]
  },
  {
   "cell_type": "markdown",
   "metadata": {
    "colab_type": "text",
    "id": "b6Tphk26QlYp"
   },
   "source": [
    "We begin by using the `find()` method to extract the header of our HTML."
   ]
  },
  {
   "cell_type": "code",
   "execution_count": 8,
   "metadata": {
    "colab": {},
    "colab_type": "code",
    "id": "y19Bk4CHLPsi"
   },
   "outputs": [
    {
     "data": {
      "text/plain": [
       "<h1>Today's Learning Objectives</h1>"
      ]
     },
     "execution_count": 8,
     "metadata": {},
     "output_type": "execute_result"
    }
   ],
   "source": [
    "soup.find('h1')"
   ]
  },
  {
   "cell_type": "code",
   "execution_count": 9,
   "metadata": {
    "colab": {},
    "colab_type": "code",
    "id": "POZRpITeRWLN"
   },
   "outputs": [
    {
     "data": {
      "text/plain": [
       "bs4.element.Tag"
      ]
     },
     "execution_count": 9,
     "metadata": {},
     "output_type": "execute_result"
    }
   ],
   "source": [
    "type(soup.find('h1'))"
   ]
  },
  {
   "cell_type": "markdown",
   "metadata": {
    "colab_type": "text",
    "id": "2IOnOX64RZTg"
   },
   "source": [
    "`find()` returns a tagged element, but we can grab just the inner HTML text instead."
   ]
  },
  {
   "cell_type": "code",
   "execution_count": 10,
   "metadata": {
    "colab": {},
    "colab_type": "code",
    "id": "24AqJmFpRrNA"
   },
   "outputs": [
    {
     "data": {
      "text/plain": [
       "\"Today's Learning Objectives\""
      ]
     },
     "execution_count": 10,
     "metadata": {},
     "output_type": "execute_result"
    }
   ],
   "source": [
    "soup.find('h1').text"
   ]
  },
  {
   "cell_type": "code",
   "execution_count": 11,
   "metadata": {
    "colab": {},
    "colab_type": "code",
    "id": "TqkdCh4URrov"
   },
   "outputs": [
    {
     "data": {
      "text/plain": [
       "str"
      ]
     },
     "execution_count": 11,
     "metadata": {},
     "output_type": "execute_result"
    }
   ],
   "source": [
    "type(soup.find('h1').text)"
   ]
  },
  {
   "cell_type": "markdown",
   "metadata": {
    "colab_type": "text",
    "id": "WliT3c4pR0mj"
   },
   "source": [
    "We now have a way to extract text from a webpage -- powerful stuff!  \n",
    "\n",
    "What do you think will be returned if we look for list tags (`li`)?"
   ]
  },
  {
   "cell_type": "code",
   "execution_count": 12,
   "metadata": {
    "colab": {},
    "colab_type": "code",
    "id": "JyfRsaFnRrrg"
   },
   "outputs": [
    {
     "data": {
      "text/plain": [
       "<li>Decipher basic HTML</li>"
      ]
     },
     "execution_count": 12,
     "metadata": {},
     "output_type": "execute_result"
    }
   ],
   "source": [
    "c"
   ]
  },
  {
   "cell_type": "markdown",
   "metadata": {
    "colab_type": "text",
    "id": "3yp3vUeZSEoC"
   },
   "source": [
    "**Warning**: `BeautifulSoup` returns ONLY the FIRST matching element when we use `find()`."
   ]
  },
  {
   "cell_type": "markdown",
   "metadata": {
    "colab_type": "text",
    "id": "DJ75L1fvLP6l"
   },
   "source": [
    "### Find all"
   ]
  },
  {
   "cell_type": "markdown",
   "metadata": {
    "colab_type": "text",
    "id": "tbOtBcr6Sg0E"
   },
   "source": [
    "If we would like `BeautifulSoup` to return ALL matching elements, we can use `find_all()` instead."
   ]
  },
  {
   "cell_type": "code",
   "execution_count": 13,
   "metadata": {
    "colab": {},
    "colab_type": "code",
    "id": "_mGMr9VMLUX1"
   },
   "outputs": [
    {
     "data": {
      "text/plain": [
       "[<li>Decipher basic HTML</li>,\n",
       " <li>Retrieve information from Internet</li>,\n",
       " <li>Parse web data</li>,\n",
       " <li>Gather and prepare data systematically</li>]"
      ]
     },
     "execution_count": 13,
     "metadata": {},
     "output_type": "execute_result"
    }
   ],
   "source": [
    "soup.find_all('li')"
   ]
  },
  {
   "cell_type": "code",
   "execution_count": 24,
   "metadata": {
    "colab": {},
    "colab_type": "code",
    "id": "x0k6_ZBXTkuu"
   },
   "outputs": [
    {
     "data": {
      "text/plain": [
       "bs4.element.ResultSet"
      ]
     },
     "execution_count": 24,
     "metadata": {},
     "output_type": "execute_result"
    }
   ],
   "source": [
    "type(soup.find_all('li'))"
   ]
  },
  {
   "cell_type": "markdown",
   "metadata": {
    "colab_type": "text",
    "id": "pHno1ME9Tx-I"
   },
   "source": [
    "Using `find_all()` yields a result set containing all of list elements on the \"page.\"  You can basically think of a result set as actinly like a list. \n",
    "\n",
    "**Warning**: `BeautifulSoup` does not allow you to apply `.text` to a result set.  The following code **will fail**."
   ]
  },
  {
   "cell_type": "code",
   "execution_count": 14,
   "metadata": {
    "colab": {},
    "colab_type": "code",
    "id": "WuCGOhboTkxY"
   },
   "outputs": [
    {
     "ename": "AttributeError",
     "evalue": "ResultSet object has no attribute 'text'. You're probably treating a list of elements like a single element. Did you call find_all() when you meant to call find()?",
     "output_type": "error",
     "traceback": [
      "\u001b[0;31m---------------------------------------------------------------------------\u001b[0m",
      "\u001b[0;31mAttributeError\u001b[0m                            Traceback (most recent call last)",
      "\u001b[0;32m<ipython-input-14-1c8b3c6c03cf>\u001b[0m in \u001b[0;36m<module>\u001b[0;34m\u001b[0m\n\u001b[0;32m----> 1\u001b[0;31m \u001b[0msoup\u001b[0m\u001b[0;34m.\u001b[0m\u001b[0mfind_all\u001b[0m\u001b[0;34m(\u001b[0m\u001b[0;34m'li'\u001b[0m\u001b[0;34m)\u001b[0m\u001b[0;34m.\u001b[0m\u001b[0mtext\u001b[0m\u001b[0;34m\u001b[0m\u001b[0;34m\u001b[0m\u001b[0m\n\u001b[0m",
      "\u001b[0;32m/Library/Frameworks/Python.framework/Versions/3.9/lib/python3.9/site-packages/bs4/element.py\u001b[0m in \u001b[0;36m__getattr__\u001b[0;34m(self, key)\u001b[0m\n\u001b[1;32m   2171\u001b[0m     \u001b[0;32mdef\u001b[0m \u001b[0m__getattr__\u001b[0m\u001b[0;34m(\u001b[0m\u001b[0mself\u001b[0m\u001b[0;34m,\u001b[0m \u001b[0mkey\u001b[0m\u001b[0;34m)\u001b[0m\u001b[0;34m:\u001b[0m\u001b[0;34m\u001b[0m\u001b[0;34m\u001b[0m\u001b[0m\n\u001b[1;32m   2172\u001b[0m         \u001b[0;34m\"\"\"Raise a helpful exception to explain a common code fix.\"\"\"\u001b[0m\u001b[0;34m\u001b[0m\u001b[0;34m\u001b[0m\u001b[0m\n\u001b[0;32m-> 2173\u001b[0;31m         raise AttributeError(\n\u001b[0m\u001b[1;32m   2174\u001b[0m             \u001b[0;34m\"ResultSet object has no attribute '%s'. You're probably treating a list of elements like a single element. Did you call find_all() when you meant to call find()?\"\u001b[0m \u001b[0;34m%\u001b[0m \u001b[0mkey\u001b[0m\u001b[0;34m\u001b[0m\u001b[0;34m\u001b[0m\u001b[0m\n\u001b[1;32m   2175\u001b[0m         )\n",
      "\u001b[0;31mAttributeError\u001b[0m: ResultSet object has no attribute 'text'. You're probably treating a list of elements like a single element. Did you call find_all() when you meant to call find()?"
     ]
    }
   ],
   "source": [
    "soup.find_all('li').text"
   ]
  },
  {
   "cell_type": "markdown",
   "metadata": {
    "colab_type": "text",
    "id": "Z4fu3oHxUhOP"
   },
   "source": [
    "Instead, you must apply `.text` to each item in the result set individually."
   ]
  },
  {
   "cell_type": "code",
   "execution_count": 15,
   "metadata": {
    "colab": {},
    "colab_type": "code",
    "id": "hdAvyYN6UWig"
   },
   "outputs": [
    {
     "name": "stdout",
     "output_type": "stream",
     "text": [
      "Decipher basic HTML\n",
      "Retrieve information from Internet\n",
      "Parse web data\n",
      "Gather and prepare data systematically\n"
     ]
    }
   ],
   "source": [
    "for item in soup.find_all('li'):\n",
    "  print(item.text)"
   ]
  },
  {
   "cell_type": "code",
   "execution_count": 16,
   "metadata": {
    "colab": {},
    "colab_type": "code",
    "id": "QKEltegqUWlT"
   },
   "outputs": [
    {
     "data": {
      "text/plain": [
       "['Decipher basic HTML',\n",
       " 'Retrieve information from Internet',\n",
       " 'Parse web data',\n",
       " 'Gather and prepare data systematically']"
      ]
     },
     "execution_count": 16,
     "metadata": {},
     "output_type": "execute_result"
    }
   ],
   "source": [
    "learning_objectives = [item.text for item in soup.find_all('li')]\n",
    "\n",
    "learning_objectives"
   ]
  },
  {
   "cell_type": "markdown",
   "metadata": {
    "colab_type": "text",
    "id": "UJl4-qR0U_oG"
   },
   "source": [
    "**Tip**: The two **most common mistakes** I see in web scraping with `BeautifulSoup` are:\n",
    "- Using `find()` when you really want `find_all()`\n",
    "- Attempting to apply `.text` to a result set like the output of `find_all()`"
   ]
  },
  {
   "cell_type": "markdown",
   "metadata": {
    "colab_type": "text",
    "id": "FZExVtIZMOm4"
   },
   "source": [
    "### Exercises"
   ]
  },
  {
   "cell_type": "markdown",
   "metadata": {
    "colab_type": "text",
    "id": "OOYU0rktXn5c"
   },
   "source": [
    "For the exercises that follow, please use this HTML code describing today's agenda and tools:"
   ]
  },
  {
   "cell_type": "code",
   "execution_count": 18,
   "metadata": {
    "colab": {},
    "colab_type": "code",
    "id": "SBcOBj8lMQV4"
   },
   "outputs": [],
   "source": [
    "workshop_html = \"\"\"\n",
    "<html>\n",
    "\n",
    "<body>\n",
    "  <h1>Today's Workshop</h1>\n",
    "  <div id='agenda' style=\"background-color: aliceblue\">\n",
    "    <h2>Agenda</h2>\n",
    "    <p>Today's workshop is comprised of three main sections:</p>\n",
    "    <ol>\n",
    "      <li>HTML Basics</li>\n",
    "      <li>Scraping Basics</li>\n",
    "      <li>Scraping Pipeline</li>\n",
    "    </ol>\n",
    "  </div>\n",
    "  \n",
    "  <div id='tools' style='background-color: honeydew'>\n",
    "    <h2>Tools</h2>\n",
    "    <p>You will be learning about two primary Python libraries:</p>  \n",
    "    <ol>\n",
    "      <li>BeautifulSoup</li>\n",
    "      <li>requests</li>\n",
    "    </ol>\n",
    "  </div>\n",
    "</body>\n",
    "\n",
    "</html>\n",
    "\"\"\""
   ]
  },
  {
   "cell_type": "code",
   "execution_count": 19,
   "metadata": {
    "colab": {},
    "colab_type": "code",
    "id": "u3wwCI9NJZPz"
   },
   "outputs": [
    {
     "data": {
      "text/html": [
       "\n",
       "<html>\n",
       "\n",
       "<body>\n",
       "  <h1>Today's Workshop</h1>\n",
       "  <div id='agenda' style=\"background-color: aliceblue\">\n",
       "    <h2>Agenda</h2>\n",
       "    <p>Today's workshop is comprised of three main sections:</p>\n",
       "    <ol>\n",
       "      <li>HTML Basics</li>\n",
       "      <li>Scraping Basics</li>\n",
       "      <li>Scraping Pipeline</li>\n",
       "    </ol>\n",
       "  </div>\n",
       "  \n",
       "  <div id='tools' style='background-color: honeydew'>\n",
       "    <h2>Tools</h2>\n",
       "    <p>You will be learning about two primary Python libraries:</p>  \n",
       "    <ol>\n",
       "      <li>BeautifulSoup</li>\n",
       "      <li>requests</li>\n",
       "    </ol>\n",
       "  </div>\n",
       "</body>\n",
       "\n",
       "</html>\n"
      ],
      "text/plain": [
       "<IPython.core.display.HTML object>"
      ]
     },
     "metadata": {},
     "output_type": "display_data"
    }
   ],
   "source": [
    "from IPython.core.display import display, HTML\n",
    "display(HTML(workshop_html)) "
   ]
  },
  {
   "cell_type": "markdown",
   "metadata": {
    "colab_type": "text",
    "id": "mpdrMjBgaQ3i"
   },
   "source": [
    "**Exercise 1 - Finding the header**  _(Solutions to all exercises provide at bottom of notebook.)_\n",
    "> Parse `workshop_html` with `BeautifulSoup`.  Find the main header text (`h1`) and save it in a variable.  Verify that you have the text by checking the `type` of your variable."
   ]
  },
  {
   "cell_type": "code",
   "execution_count": 20,
   "metadata": {
    "colab": {},
    "colab_type": "code",
    "id": "K6adKDP0bEKR"
   },
   "outputs": [],
   "source": [
    "workshop_soup = bs(workshop_html)"
   ]
  },
  {
   "cell_type": "code",
   "execution_count": 78,
   "metadata": {
    "colab": {},
    "colab_type": "code",
    "id": "SO9Nh2wUbETs"
   },
   "outputs": [],
   "source": [
    "workshop_header = workshop_soup.find('h1').text"
   ]
  },
  {
   "cell_type": "code",
   "execution_count": 81,
   "metadata": {
    "colab": {},
    "colab_type": "code",
    "id": "GYpHfOvjbEzt"
   },
   "outputs": [
    {
     "data": {
      "text/plain": [
       "str"
      ]
     },
     "execution_count": 81,
     "metadata": {},
     "output_type": "execute_result"
    }
   ],
   "source": [
    "type(workshop_header)"
   ]
  },
  {
   "cell_type": "markdown",
   "metadata": {
    "colab_type": "text",
    "id": "Mhjw8y_JbNHd"
   },
   "source": [
    "**Exercise 2 - Finding the paragraphs**\n",
    "\n",
    "Now find all the paragraphs in `workshop_html` and print out the text that you find."
   ]
  },
  {
   "cell_type": "code",
   "execution_count": 26,
   "metadata": {
    "colab": {},
    "colab_type": "code",
    "id": "IKUg-aurb8bM"
   },
   "outputs": [],
   "source": [
    "workshop_paragraphs = workshop_soup.find_all('p')"
   ]
  },
  {
   "cell_type": "code",
   "execution_count": 27,
   "metadata": {
    "colab": {},
    "colab_type": "code",
    "id": "o4Ec96Q_b8eg"
   },
   "outputs": [
    {
     "name": "stdout",
     "output_type": "stream",
     "text": [
      "Today's workshop is comprised of three main sections:\n",
      "You will be learning about two primary Python libraries:\n"
     ]
    }
   ],
   "source": [
    "for p in workshop_paragraphs:\n",
    "    print(p.text)"
   ]
  },
  {
   "cell_type": "markdown",
   "metadata": {
    "colab_type": "text",
    "id": "qXuDZ968cTkT"
   },
   "source": [
    "**BONUS: Exercise 3 - Finding the agenda items**\n",
    "\n",
    "Create a list of all of the agenda items for today's workshop.  Be sure to store only the TEXT for the AGENDA items!"
   ]
  },
  {
   "cell_type": "code",
   "execution_count": 75,
   "metadata": {
    "colab": {},
    "colab_type": "code",
    "id": "zUYIOQG0ciZP"
   },
   "outputs": [],
   "source": [
    "workshop_agenda_items = workshop_soup.find(id='agenda').findChildren('li')"
   ]
  },
  {
   "cell_type": "code",
   "execution_count": 76,
   "metadata": {
    "colab": {},
    "colab_type": "code",
    "id": "yyvvjM2tcic1"
   },
   "outputs": [
    {
     "data": {
      "text/plain": [
       "[<li>HTML Basics</li>, <li>Scraping Basics</li>, <li>Scraping Pipeline</li>]"
      ]
     },
     "execution_count": 76,
     "metadata": {},
     "output_type": "execute_result"
    }
   ],
   "source": [
    "workshop_agenda_items"
   ]
  },
  {
   "cell_type": "code",
   "execution_count": 77,
   "metadata": {},
   "outputs": [
    {
     "data": {
      "text/plain": [
       "bs4.element.ResultSet"
      ]
     },
     "execution_count": 77,
     "metadata": {},
     "output_type": "execute_result"
    }
   ],
   "source": [
    "type(workshop_agenda_items)"
   ]
  },
  {
   "cell_type": "code",
   "execution_count": 80,
   "metadata": {},
   "outputs": [
    {
     "data": {
      "text/plain": [
       "['HTML Basics', 'Scraping Basics', 'Scraping Pipeline']"
      ]
     },
     "execution_count": 80,
     "metadata": {},
     "output_type": "execute_result"
    }
   ],
   "source": [
    "agenda_items = [li.text for li in workshop_soup.find_all('li')[:3]]\n",
    "agenda_items"
   ]
  },
  {
   "cell_type": "markdown",
   "metadata": {
    "colab_type": "text",
    "id": "Iqq1HAHnJZ4b"
   },
   "source": [
    "# Scrape Test Webpage"
   ]
  },
  {
   "cell_type": "markdown",
   "metadata": {
    "colab_type": "text",
    "id": "ENkQA206dhqK"
   },
   "source": [
    "In the last exercise, we found out that oftentimes using only the HTML tags alone won't be granular enough.  \n",
    "\n",
    "Let's work with a more complicated HTML file to see what other options are available.\n",
    "\n",
    "First download this file to your computer."
   ]
  },
  {
   "cell_type": "code",
   "execution_count": 86,
   "metadata": {
    "colab": {},
    "colab_type": "code",
    "id": "CQabS3_6uC6z"
   },
   "outputs": [
    {
     "name": "stdout",
     "output_type": "stream",
     "text": [
      "--2021-04-03 06:44:01--  https://raw.github.com/kimfetti/Conferences/master/PyCon_2020/pycon_info.html\n",
      "Resolving raw.github.com (raw.github.com)... 185.199.109.133, 185.199.108.133, 185.199.111.133, ...\n",
      "Connecting to raw.github.com (raw.github.com)|185.199.109.133|:443... connected.\n",
      "HTTP request sent, awaiting response... 301 Moved Permanently\n",
      "Location: https://raw.githubusercontent.com/kimfetti/Conferences/master/PyCon_2020/pycon_info.html [following]\n",
      "--2021-04-03 06:44:01--  https://raw.githubusercontent.com/kimfetti/Conferences/master/PyCon_2020/pycon_info.html\n",
      "Resolving raw.githubusercontent.com (raw.githubusercontent.com)... 185.199.108.133, 185.199.110.133, 185.199.111.133, ...\n",
      "Connecting to raw.githubusercontent.com (raw.githubusercontent.com)|185.199.108.133|:443... connected.\n",
      "HTTP request sent, awaiting response... 200 OK\n",
      "Length: 2953 (2.9K) [text/plain]\n",
      "Saving to: ‘pycon_info.html.1’\n",
      "\n",
      "pycon_info.html.1   100%[===================>]   2.88K  --.-KB/s    in 0.01s   \n",
      "\n",
      "2021-04-03 06:44:02 (199 KB/s) - ‘pycon_info.html.1’ saved [2953/2953]\n",
      "\n"
     ]
    }
   ],
   "source": [
    "!wget https://raw.github.com/kimfetti/Conferences/master/PyCon_2020/pycon_info.html"
   ]
  },
  {
   "cell_type": "markdown",
   "metadata": {
    "colab_type": "text",
    "id": "xO4K3JWGuaDR"
   },
   "source": [
    "Double click on this file to view it in your browser.  Once you have gotten a feel for the structure, read the file in and save as a string. "
   ]
  },
  {
   "cell_type": "code",
   "execution_count": 83,
   "metadata": {
    "colab": {},
    "colab_type": "code",
    "id": "pj5tg_MnnwB7"
   },
   "outputs": [],
   "source": [
    "pycon_html = open('pycon_info.html').read()"
   ]
  },
  {
   "cell_type": "code",
   "execution_count": 84,
   "metadata": {
    "colab": {},
    "colab_type": "code",
    "id": "-q2zzBCYog7r"
   },
   "outputs": [
    {
     "name": "stdout",
     "output_type": "stream",
     "text": [
      "<html>\n",
      "    <head>\n",
      "        <title>PyCon 2020 Info</title>\n",
      "\n",
      "        <style>\n",
      "            body {\n",
      "                background-color: cornsilk;\n",
      "            }\n",
      "\n",
      "            h1 {\n",
      "                font-size: 40px;\n",
      "                font-family: courier new, arial;\n",
      "                text-align: center;\n",
      "                margin-top: 50px;\n",
      "            }\n",
      "\n",
      "            a {\n",
      "                color: #411B2D;\n",
      "                font-size: 20px;\n",
      "            }\n",
      "\n",
      "            p {\n",
      "                font-size: 20px;\n",
      "            }\n",
      "\n",
      "            a:hover{\n",
      "                color: white;\n",
      "                background-color: #411B2D;\n",
      "            }\n",
      "\n",
      "            #toolbar {\n",
      "                background-color: #F3B643;\n",
      "                font-family: courier new, arial;\n",
      "                font-weight: bold;\n",
      "                font-size: 16px;\n",
      "                display: flex;\n",
      "                justify-content: space-around;\n",
      "                flex-direction: row;\n",
      "                border: 1px solid black;\n",
      "                border-radius: 1px;\n",
      "                margin: auto;\n",
      "                width: 95%;\n",
      "                padding: 20px;\n",
      "            }\n",
      "\n",
      "            .events {\n",
      "                margin: auto;\n",
      "                width: 60%;\n",
      "                margin-top: 50px;\n",
      "            }\n",
      "\n",
      "            #tomorrow {\n",
      "                margin-bottom: 50px;\n",
      "            }\n",
      "\n",
      "        </style>\n",
      "    </head>\n",
      "    \n",
      "    <body>\n",
      "        <h1>PyCon 2020</h1>\n",
      "        <div id=\"toolbar\">\n",
      "            <a href=\"https://us.pycon.org/2020/about/\">WHAT IS PYCON?</a>\n",
      "            <a href=\"https://us.pycon.org/2020/schedule/tutorials/\">TUTORIAL SCHEDULE</a>\n",
      "            <a href=\"https://us.pycon.org/2020/speaking/\">SPEAKING AT PYCON</a>\n",
      "            <a href=\"https://us.pycon.org/2020/psf/\">PYTHON SOFTWARE FOUNDATION</a>\n",
      "        </div>\n",
      "\n",
      "        <div id=\"today\" class=\"events\">\n",
      "            <h2>A Selection of Today's Events</h2>\n",
      "            <p> Room 309, 9:00 am - <a href=\"https://us.pycon.org/2020/schedule/presentation/50/\">Foundations of Numerical Computing in Python</a></p>\n",
      "            <p> Room 315, 9:00 am - <a href=\"https://us.pycon.org/2020/schedule/presentation/72/\">It's Officially Legal so Let's Scrape the Web</a></p>\n",
      "            <p> Room 317, 1:20 pm - <a href=\"https://us.pycon.org/2020/schedule/presentation/54/\">A Beginner's Guide to Befriending Python</a></p>\n",
      "            <p> Room 318, 1:20 pm -<a href=\"https://us.pycon.org/2020/schedule/presentation/55/\">Scalable Computing with Dask</a></p>\n",
      "        </div>\n",
      "\n",
      "        <div id=\"tomorrow\" class=\"events\">\n",
      "            <h2>Coming Up Tomorrow</h2>\n",
      "            <p> Room 316, 9:00 am - <a href=\"https://us.pycon.org/2020/schedule/presentation/63/\">Creating a Great Python Package</a></p>\n",
      "            <p> Room 319, 9:00 am - <a href=\"https://us.pycon.org/2020/schedule/presentation/45/\">Minimum Viable Documentation</a></p>\n",
      "            <p> Room 309, 1:20 pm - <a href=\"https://us.pycon.org/2020/schedule/presentation/74/\">Effective Data Visualization</a>\n",
      "        </div>\n",
      "\n",
      "\n",
      "    </body>\n",
      "    \n",
      "</html>\n",
      "\n"
     ]
    }
   ],
   "source": [
    "print(pycon_html)"
   ]
  },
  {
   "cell_type": "markdown",
   "metadata": {
    "colab_type": "text",
    "id": "jDPP_5ygqW7P"
   },
   "source": [
    "Since our HTML is a string, we can parse it with `BeautifulSoup` and begin collecting data.  \n",
    "\n",
    "Let's say we are interested in gathering titles and links of events happening today.  Links can be found by looking for anchor, `a`, tags.  "
   ]
  },
  {
   "cell_type": "code",
   "execution_count": 87,
   "metadata": {
    "colab": {},
    "colab_type": "code",
    "id": "8B5Oydm6rIDq"
   },
   "outputs": [],
   "source": [
    "soup = bs(pycon_html)"
   ]
  },
  {
   "cell_type": "code",
   "execution_count": 88,
   "metadata": {
    "colab": {},
    "colab_type": "code",
    "id": "PK4gJLPwrVPM"
   },
   "outputs": [
    {
     "data": {
      "text/plain": [
       "[<a href=\"https://us.pycon.org/2020/about/\">WHAT IS PYCON?</a>,\n",
       " <a href=\"https://us.pycon.org/2020/schedule/tutorials/\">TUTORIAL SCHEDULE</a>,\n",
       " <a href=\"https://us.pycon.org/2020/speaking/\">SPEAKING AT PYCON</a>,\n",
       " <a href=\"https://us.pycon.org/2020/psf/\">PYTHON SOFTWARE FOUNDATION</a>,\n",
       " <a href=\"https://us.pycon.org/2020/schedule/presentation/50/\">Foundations of Numerical Computing in Python</a>,\n",
       " <a href=\"https://us.pycon.org/2020/schedule/presentation/72/\">It's Officially Legal so Let's Scrape the Web</a>,\n",
       " <a href=\"https://us.pycon.org/2020/schedule/presentation/54/\">A Beginner's Guide to Befriending Python</a>,\n",
       " <a href=\"https://us.pycon.org/2020/schedule/presentation/55/\">Scalable Computing with Dask</a>,\n",
       " <a href=\"https://us.pycon.org/2020/schedule/presentation/63/\">Creating a Great Python Package</a>,\n",
       " <a href=\"https://us.pycon.org/2020/schedule/presentation/45/\">Minimum Viable Documentation</a>,\n",
       " <a href=\"https://us.pycon.org/2020/schedule/presentation/74/\">Effective Data Visualization</a>]"
      ]
     },
     "execution_count": 88,
     "metadata": {},
     "output_type": "execute_result"
    }
   ],
   "source": [
    "soup.find_all('a')"
   ]
  },
  {
   "cell_type": "markdown",
   "metadata": {
    "colab_type": "text",
    "id": "2HaEHZgVslih"
   },
   "source": [
    "Whoa -- there are a lot more links on this page other than today's events!"
   ]
  },
  {
   "cell_type": "markdown",
   "metadata": {
    "colab_type": "text",
    "id": "50z8xhqlLfTL"
   },
   "source": [
    "###Find by attribute"
   ]
  },
  {
   "cell_type": "markdown",
   "metadata": {
    "colab_type": "text",
    "id": "X8J3lOYFsvdp"
   },
   "source": [
    "In order to drill down to just the links we are interested in, notice that today's events are contained within a `div` that has `id=today`.  We can first isolate this `div` by searching for it by its `id`."
   ]
  },
  {
   "cell_type": "code",
   "execution_count": 89,
   "metadata": {
    "colab": {},
    "colab_type": "code",
    "id": "0ljh-i2WLhDJ"
   },
   "outputs": [
    {
     "data": {
      "text/plain": [
       "<div class=\"events\" id=\"today\">\n",
       "<h2>A Selection of Today's Events</h2>\n",
       "<p> Room 309, 9:00 am - <a href=\"https://us.pycon.org/2020/schedule/presentation/50/\">Foundations of Numerical Computing in Python</a></p>\n",
       "<p> Room 315, 9:00 am - <a href=\"https://us.pycon.org/2020/schedule/presentation/72/\">It's Officially Legal so Let's Scrape the Web</a></p>\n",
       "<p> Room 317, 1:20 pm - <a href=\"https://us.pycon.org/2020/schedule/presentation/54/\">A Beginner's Guide to Befriending Python</a></p>\n",
       "<p> Room 318, 1:20 pm -<a href=\"https://us.pycon.org/2020/schedule/presentation/55/\">Scalable Computing with Dask</a></p>\n",
       "</div>"
      ]
     },
     "execution_count": 89,
     "metadata": {},
     "output_type": "execute_result"
    }
   ],
   "source": [
    "today_div = soup.find(id='today')\n",
    "\n",
    "today_div"
   ]
  },
  {
   "cell_type": "code",
   "execution_count": 90,
   "metadata": {
    "colab": {},
    "colab_type": "code",
    "id": "zFX6VVDRtFj3"
   },
   "outputs": [
    {
     "data": {
      "text/plain": [
       "bs4.element.Tag"
      ]
     },
     "execution_count": 90,
     "metadata": {},
     "output_type": "execute_result"
    }
   ],
   "source": [
    "type(today_div)"
   ]
  },
  {
   "cell_type": "markdown",
   "metadata": {
    "colab_type": "text",
    "id": "qSbVBUzltRIa"
   },
   "source": [
    "Now we will look for all of the anchor tags that are contained within this division."
   ]
  },
  {
   "cell_type": "code",
   "execution_count": 91,
   "metadata": {
    "colab": {},
    "colab_type": "code",
    "id": "HJBi-y4StLqd"
   },
   "outputs": [
    {
     "data": {
      "text/plain": [
       "[<a href=\"https://us.pycon.org/2020/schedule/presentation/50/\">Foundations of Numerical Computing in Python</a>,\n",
       " <a href=\"https://us.pycon.org/2020/schedule/presentation/72/\">It's Officially Legal so Let's Scrape the Web</a>,\n",
       " <a href=\"https://us.pycon.org/2020/schedule/presentation/54/\">A Beginner's Guide to Befriending Python</a>,\n",
       " <a href=\"https://us.pycon.org/2020/schedule/presentation/55/\">Scalable Computing with Dask</a>]"
      ]
     },
     "execution_count": 91,
     "metadata": {},
     "output_type": "execute_result"
    }
   ],
   "source": [
    "today_div.find_all('a')"
   ]
  },
  {
   "cell_type": "markdown",
   "metadata": {
    "colab_type": "text",
    "id": "tmkC8X_4xnbC"
   },
   "source": [
    "**Tip**:  You can find elements by pretty much any attribute.  Let's find elements with that are members of the `events` class."
   ]
  },
  {
   "cell_type": "code",
   "execution_count": 92,
   "metadata": {
    "colab": {},
    "colab_type": "code",
    "id": "t1IBgegQxLgZ"
   },
   "outputs": [
    {
     "data": {
      "text/plain": [
       "[<div class=\"events\" id=\"today\">\n",
       " <h2>A Selection of Today's Events</h2>\n",
       " <p> Room 309, 9:00 am - <a href=\"https://us.pycon.org/2020/schedule/presentation/50/\">Foundations of Numerical Computing in Python</a></p>\n",
       " <p> Room 315, 9:00 am - <a href=\"https://us.pycon.org/2020/schedule/presentation/72/\">It's Officially Legal so Let's Scrape the Web</a></p>\n",
       " <p> Room 317, 1:20 pm - <a href=\"https://us.pycon.org/2020/schedule/presentation/54/\">A Beginner's Guide to Befriending Python</a></p>\n",
       " <p> Room 318, 1:20 pm -<a href=\"https://us.pycon.org/2020/schedule/presentation/55/\">Scalable Computing with Dask</a></p>\n",
       " </div>,\n",
       " <div class=\"events\" id=\"tomorrow\">\n",
       " <h2>Coming Up Tomorrow</h2>\n",
       " <p> Room 316, 9:00 am - <a href=\"https://us.pycon.org/2020/schedule/presentation/63/\">Creating a Great Python Package</a></p>\n",
       " <p> Room 319, 9:00 am - <a href=\"https://us.pycon.org/2020/schedule/presentation/45/\">Minimum Viable Documentation</a></p>\n",
       " <p> Room 309, 1:20 pm - <a href=\"https://us.pycon.org/2020/schedule/presentation/74/\">Effective Data Visualization</a>\n",
       " </p></div>]"
      ]
     },
     "execution_count": 92,
     "metadata": {},
     "output_type": "execute_result"
    }
   ],
   "source": [
    "soup.find_all(class_ = 'events')"
   ]
  },
  {
   "cell_type": "markdown",
   "metadata": {
    "colab_type": "text",
    "id": "hFKaUQeczI8S"
   },
   "source": [
    "Passing a dictionary of attributes works as well."
   ]
  },
  {
   "cell_type": "code",
   "execution_count": 93,
   "metadata": {
    "colab": {},
    "colab_type": "code",
    "id": "0cPgx8kgy4lc",
    "scrolled": true
   },
   "outputs": [
    {
     "data": {
      "text/plain": [
       "[<div class=\"events\" id=\"tomorrow\">\n",
       " <h2>Coming Up Tomorrow</h2>\n",
       " <p> Room 316, 9:00 am - <a href=\"https://us.pycon.org/2020/schedule/presentation/63/\">Creating a Great Python Package</a></p>\n",
       " <p> Room 319, 9:00 am - <a href=\"https://us.pycon.org/2020/schedule/presentation/45/\">Minimum Viable Documentation</a></p>\n",
       " <p> Room 309, 1:20 pm - <a href=\"https://us.pycon.org/2020/schedule/presentation/74/\">Effective Data Visualization</a>\n",
       " </p></div>]"
      ]
     },
     "execution_count": 93,
     "metadata": {},
     "output_type": "execute_result"
    }
   ],
   "source": [
    "soup.find_all(attrs={'class':'events', 'id': 'tomorrow'}) "
   ]
  },
  {
   "cell_type": "markdown",
   "metadata": {
    "colab_type": "text",
    "id": "Vdtgdj92Lm0S"
   },
   "source": [
    "### Retrieve attributes"
   ]
  },
  {
   "cell_type": "markdown",
   "metadata": {
    "colab_type": "text",
    "id": "3ERJqjn_tZsC"
   },
   "source": [
    "If we want to just get the names of today's events, we can simply cycle through today's links and collect the `.text`."
   ]
  },
  {
   "cell_type": "code",
   "execution_count": 94,
   "metadata": {
    "colab": {},
    "colab_type": "code",
    "id": "6gjThbpwtLui"
   },
   "outputs": [
    {
     "data": {
      "text/plain": [
       "['Foundations of Numerical Computing in Python',\n",
       " \"It's Officially Legal so Let's Scrape the Web\",\n",
       " \"A Beginner's Guide to Befriending Python\",\n",
       " 'Scalable Computing with Dask']"
      ]
     },
     "execution_count": 94,
     "metadata": {},
     "output_type": "execute_result"
    }
   ],
   "source": [
    "today_text = [link.text for link in today_div.find_all('a')]\n",
    "\n",
    "today_text"
   ]
  },
  {
   "cell_type": "markdown",
   "metadata": {
    "colab_type": "text",
    "id": "vTnrWzSGxdIN"
   },
   "source": [
    "But what would we do if we wanted the **hyperlinks** to each of those events?\n",
    "\n",
    "`BeautifulSoup` allows you to retrieve element attributes.  You will reference these using the same syntax as dictionary key."
   ]
  },
  {
   "cell_type": "code",
   "execution_count": 95,
   "metadata": {
    "colab": {},
    "colab_type": "code",
    "id": "_dqcWf7jLs_t"
   },
   "outputs": [
    {
     "data": {
      "text/plain": [
       "<a href=\"https://us.pycon.org/2020/schedule/presentation/50/\">Foundations of Numerical Computing in Python</a>"
      ]
     },
     "execution_count": 95,
     "metadata": {},
     "output_type": "execute_result"
    }
   ],
   "source": [
    "today_div.find('a')"
   ]
  },
  {
   "cell_type": "code",
   "execution_count": 96,
   "metadata": {
    "colab": {},
    "colab_type": "code",
    "id": "rgSsqg2czq9-"
   },
   "outputs": [
    {
     "data": {
      "text/plain": [
       "'https://us.pycon.org/2020/schedule/presentation/50/'"
      ]
     },
     "execution_count": 96,
     "metadata": {},
     "output_type": "execute_result"
    }
   ],
   "source": [
    "today_div.find('a')['href']"
   ]
  },
  {
   "cell_type": "code",
   "execution_count": 97,
   "metadata": {
    "colab": {},
    "colab_type": "code",
    "id": "RBC1yquizvMZ"
   },
   "outputs": [
    {
     "data": {
      "text/plain": [
       "str"
      ]
     },
     "execution_count": 97,
     "metadata": {},
     "output_type": "execute_result"
    }
   ],
   "source": [
    "type(today_div.find('a')['href'])"
   ]
  },
  {
   "cell_type": "code",
   "execution_count": 98,
   "metadata": {
    "colab": {},
    "colab_type": "code",
    "id": "ZPvUjoF9zy8l"
   },
   "outputs": [
    {
     "data": {
      "text/plain": [
       "['https://us.pycon.org/2020/schedule/presentation/50/',\n",
       " 'https://us.pycon.org/2020/schedule/presentation/72/',\n",
       " 'https://us.pycon.org/2020/schedule/presentation/54/',\n",
       " 'https://us.pycon.org/2020/schedule/presentation/55/']"
      ]
     },
     "execution_count": 98,
     "metadata": {},
     "output_type": "execute_result"
    }
   ],
   "source": [
    "today_links = [link['href'] for link in today_div.find_all('a')]\n",
    "\n",
    "today_links"
   ]
  },
  {
   "cell_type": "markdown",
   "metadata": {
    "colab_type": "text",
    "id": "J181BQ3_L0bZ"
   },
   "source": [
    "### Exercises"
   ]
  },
  {
   "cell_type": "markdown",
   "metadata": {
    "colab_type": "text",
    "id": "X8rfPI2m1bmM"
   },
   "source": [
    "**Exercise 4 - Tomorrow's event tuples** \n",
    "> Create a list of tuples for each of tomorrow's events.  The first element in your tuples will be the event title and the second will be the event link."
   ]
  },
  {
   "cell_type": "code",
   "execution_count": 105,
   "metadata": {
    "colab": {},
    "colab_type": "code",
    "id": "GoiUcz0aL1fJ"
   },
   "outputs": [],
   "source": [
    "tommorow_tuples = [(link.text, link['href']) for link in soup.find(id='tomorrow').find_all('a')]"
   ]
  },
  {
   "cell_type": "code",
   "execution_count": 106,
   "metadata": {
    "colab": {},
    "colab_type": "code",
    "id": "HhvssAMI1Q80"
   },
   "outputs": [
    {
     "data": {
      "text/plain": [
       "[('Creating a Great Python Package',\n",
       "  'https://us.pycon.org/2020/schedule/presentation/63/'),\n",
       " ('Minimum Viable Documentation',\n",
       "  'https://us.pycon.org/2020/schedule/presentation/45/'),\n",
       " ('Effective Data Visualization',\n",
       "  'https://us.pycon.org/2020/schedule/presentation/74/')]"
      ]
     },
     "execution_count": 106,
     "metadata": {},
     "output_type": "execute_result"
    }
   ],
   "source": [
    "tommorow_tuples"
   ]
  },
  {
   "cell_type": "markdown",
   "metadata": {
    "colab_type": "text",
    "id": "n5DAy_WZ08mh"
   },
   "source": [
    "**Exercise 5 - Finding the event headers** \n",
    "> Using `pycon_html` find the header text for today's and tomorrow's events by referencing the `events` class."
   ]
  },
  {
   "cell_type": "code",
   "execution_count": 109,
   "metadata": {
    "colab": {},
    "colab_type": "code",
    "id": "xoJ_Rdc91uie"
   },
   "outputs": [
    {
     "name": "stdout",
     "output_type": "stream",
     "text": [
      "[<div class=\"events\" id=\"today\">\n",
      "<h2>A Selection of Today's Events</h2>\n",
      "<p> Room 309, 9:00 am - <a href=\"https://us.pycon.org/2020/schedule/presentation/50/\">Foundations of Numerical Computing in Python</a></p>\n",
      "<p> Room 315, 9:00 am - <a href=\"https://us.pycon.org/2020/schedule/presentation/72/\">It's Officially Legal so Let's Scrape the Web</a></p>\n",
      "<p> Room 317, 1:20 pm - <a href=\"https://us.pycon.org/2020/schedule/presentation/54/\">A Beginner's Guide to Befriending Python</a></p>\n",
      "<p> Room 318, 1:20 pm -<a href=\"https://us.pycon.org/2020/schedule/presentation/55/\">Scalable Computing with Dask</a></p>\n",
      "</div>, <div class=\"events\" id=\"tomorrow\">\n",
      "<h2>Coming Up Tomorrow</h2>\n",
      "<p> Room 316, 9:00 am - <a href=\"https://us.pycon.org/2020/schedule/presentation/63/\">Creating a Great Python Package</a></p>\n",
      "<p> Room 319, 9:00 am - <a href=\"https://us.pycon.org/2020/schedule/presentation/45/\">Minimum Viable Documentation</a></p>\n",
      "<p> Room 309, 1:20 pm - <a href=\"https://us.pycon.org/2020/schedule/presentation/74/\">Effective Data Visualization</a>\n",
      "</p></div>]\n"
     ]
    }
   ],
   "source": [
    "event_days = soup.find_all(class_ = 'events')\n",
    "print(event_days)"
   ]
  },
  {
   "cell_type": "code",
   "execution_count": 117,
   "metadata": {
    "colab": {},
    "colab_type": "code",
    "id": "O0_lE9si1umo"
   },
   "outputs": [],
   "source": [
    "headers = [day.find('h2').text for day in event_days]"
   ]
  },
  {
   "cell_type": "code",
   "execution_count": 118,
   "metadata": {
    "colab": {},
    "colab_type": "code",
    "id": "pFqj3GO-1uwX"
   },
   "outputs": [
    {
     "data": {
      "text/plain": [
       "[\"A Selection of Today's Events\", 'Coming Up Tomorrow']"
      ]
     },
     "execution_count": 118,
     "metadata": {},
     "output_type": "execute_result"
    }
   ],
   "source": [
    "headers"
   ]
  },
  {
   "cell_type": "markdown",
   "metadata": {
    "colab_type": "text",
    "id": "AwJEaE82L4tj"
   },
   "source": [
    "---\n",
    "\n",
    "# Solutions"
   ]
  },
  {
   "cell_type": "markdown",
   "metadata": {
    "colab_type": "text",
    "id": "jcxKoYVhkMdm"
   },
   "source": [
    "  **Exercise 0: Quick HTML Review**\n",
    "> What tags do we see on this page? <br>\n",
    "`div`, `h1`, `ul` (unordered list), `li` (list item)\n",
    "\n",
    "> What attributes? <br>\n",
    "`style` for the `div` container\n",
    "\n",
    "> What's the inner HTML text of the header? <br>\n",
    "\"Today's Learning Objectives\""
   ]
  },
  {
   "cell_type": "markdown",
   "metadata": {
    "colab_type": "text",
    "id": "uhDzJPNQbRDt"
   },
   "source": [
    " **Exercise 1 - Finding the header**\n",
    "\n",
    "> Parse `workshop_html` with `BeautifulSoup`.  Find the main header text (`h1`) and save it in a variable.  Verify that you have the text by checking the `type` of your variable."
   ]
  },
  {
   "cell_type": "code",
   "execution_count": null,
   "metadata": {
    "colab": {},
    "colab_type": "code",
    "id": "smuIFTdOL6Kv"
   },
   "outputs": [],
   "source": [
    "soup = bs(workshop_html)"
   ]
  },
  {
   "cell_type": "code",
   "execution_count": null,
   "metadata": {
    "colab": {},
    "colab_type": "code",
    "id": "4Tyg2g3WbUn8"
   },
   "outputs": [],
   "source": [
    "header = soup.find('h1').text\n",
    "\n",
    "print(header)"
   ]
  },
  {
   "cell_type": "code",
   "execution_count": null,
   "metadata": {
    "colab": {},
    "colab_type": "code",
    "id": "gtB84wARbXZ8"
   },
   "outputs": [],
   "source": [
    "type(header)"
   ]
  },
  {
   "cell_type": "markdown",
   "metadata": {
    "colab_type": "text",
    "id": "ni-mQghTcBV9"
   },
   "source": [
    " **Exercise 2 - Finding the paragraphs**\n",
    "\n",
    "Now find all the paragraphs in `workshop_html` and print out the text that you find."
   ]
  },
  {
   "cell_type": "code",
   "execution_count": null,
   "metadata": {
    "colab": {},
    "colab_type": "code",
    "id": "v-9PYDY5bYbs"
   },
   "outputs": [],
   "source": [
    "soup.find_all('p')"
   ]
  },
  {
   "cell_type": "code",
   "execution_count": null,
   "metadata": {
    "colab": {},
    "colab_type": "code",
    "id": "By_rc__LcDv7"
   },
   "outputs": [],
   "source": [
    "for paragraph in soup.find_all('p'):\n",
    "  print(paragraph.text)"
   ]
  },
  {
   "cell_type": "markdown",
   "metadata": {
    "colab_type": "text",
    "id": "CwdPE0UackhC"
   },
   "source": [
    " **BONUS: Exercise 3 - Finding the agenda items**\n",
    "\n",
    "Create a list of all of the agenda items for today's workshop.  Be sure to store only the TEXT for the AGENDA items!"
   ]
  },
  {
   "cell_type": "code",
   "execution_count": null,
   "metadata": {
    "colab": {},
    "colab_type": "code",
    "id": "vmfciqaKcIig"
   },
   "outputs": [],
   "source": [
    "agenda_items = [li.text for li in soup.find_all('li')[:3]]\n",
    "\n",
    "print(agenda_items)"
   ]
  },
  {
   "cell_type": "code",
   "execution_count": null,
   "metadata": {
    "colab": {},
    "colab_type": "code",
    "id": "m0mIv8rqcsvA"
   },
   "outputs": [],
   "source": [
    "#Later we will learn a better way: \n",
    "#  First look for the div that contains the agenda items\n",
    "\n",
    "agenda_div = soup.find('div', id='agenda')\n",
    "\n",
    "agenda_items = [li.text for li in agenda_div.find_all('li')]\n",
    "\n",
    "print(agenda_items)"
   ]
  },
  {
   "cell_type": "markdown",
   "metadata": {
    "colab_type": "text",
    "id": "lbjUrQeC2W1-"
   },
   "source": [
    " **Exercise 4 - Tomorrow's event tuples** \n",
    "> Create a list of tuples for each of tomorrow's events.  The first element in your tuples will be the event title and the second will be the event link."
   ]
  },
  {
   "cell_type": "code",
   "execution_count": null,
   "metadata": {
    "colab": {},
    "colab_type": "code",
    "id": "gjbPnuEg2SHZ"
   },
   "outputs": [],
   "source": [
    "tomorrow_tuples = [(a.text, a['href']) for a in soup.find(id='tomorrow').find_all('a')]\n",
    "\n",
    "tomorrow_tuples"
   ]
  },
  {
   "cell_type": "markdown",
   "metadata": {
    "colab_type": "text",
    "id": "HLjUUS601zeY"
   },
   "source": [
    " **Exercise 5 - Finding the event headers** \n",
    "> Using `pycon_html` find the header text for today's and tomorrow's events by referencing the `events` class."
   ]
  },
  {
   "cell_type": "code",
   "execution_count": null,
   "metadata": {
    "colab": {},
    "colab_type": "code",
    "id": "ZTYJ7raoc9bG"
   },
   "outputs": [],
   "source": [
    "event_headers = [div.find('h2') for div in soup.find_all(class_='events')]"
   ]
  },
  {
   "cell_type": "code",
   "execution_count": null,
   "metadata": {
    "colab": {},
    "colab_type": "code",
    "id": "NHNsdYdU2C3r"
   },
   "outputs": [],
   "source": [
    "event_header_text = [header.text for header in event_headers]\n",
    "\n",
    "event_header_text"
   ]
  }
 ],
 "metadata": {
  "colab": {
   "collapsed_sections": [],
   "name": "PyCon2020_Scraping_Basics.ipynb",
   "provenance": []
  },
  "kernelspec": {
   "display_name": "Python 3",
   "language": "python",
   "name": "python3"
  },
  "language_info": {
   "codemirror_mode": {
    "name": "ipython",
    "version": 3
   },
   "file_extension": ".py",
   "mimetype": "text/x-python",
   "name": "python",
   "nbconvert_exporter": "python",
   "pygments_lexer": "ipython3",
   "version": "3.9.2"
  }
 },
 "nbformat": 4,
 "nbformat_minor": 1
}
